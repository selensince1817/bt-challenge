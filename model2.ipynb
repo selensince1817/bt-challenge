{
 "cells": [
  {
   "cell_type": "code",
   "execution_count": 488,
   "metadata": {},
   "outputs": [],
   "source": [
    "from sklearn import preprocessing\n",
    "\n",
    "from sklearn.model_selection import StratifiedKFold, train_test_split\n",
    "from sklearn.neighbors import KNeighborsClassifier\n",
    "from sklearn.preprocessing import StandardScaler\n",
    "from IPython.display import Image  \n",
    "\n",
    "import pydotplus\n",
    "import io\n",
    "\n",
    "from sklearn.ensemble import RandomForestClassifier\n",
    "from sklearn.metrics import accuracy_score, confusion_matrix, precision_score, recall_score, f1_score, roc_curve, roc_auc_score, confusion_matrix, classification_report\n",
    "from sklearn.model_selection import GridSearchCV\n",
    "from sklearn.preprocessing import LabelEncoder, MinMaxScaler\n",
    "from sklearn.tree import DecisionTreeClassifier, export_graphviz\n",
    "\n",
    "from imblearn.over_sampling import SMOTE \n",
    "\n",
    "\n",
    "import pandas as pd\n",
    "import numpy as np\n",
    "\n",
    "import seaborn as sns\n",
    "import matplotlib.pyplot as plt\n",
    "\n",
    "sns.set()\n",
    "\n",
    "%config InlineBackend.figure_format = 'svg'\n"
   ]
  },
  {
   "cell_type": "code",
   "execution_count": 489,
   "metadata": {},
   "outputs": [],
   "source": [
    "def tree_graph_to_png(tree, feature_names, png_file_to_save):\n",
    "    tree_str = export_graphviz(\n",
    "        tree, feature_names=feature_names, filled=True, out_file=None\n",
    "    )\n",
    "    graph = pydotplus.graph_from_dot_data(tree_str)\n",
    "    graph.write_png(png_file_to_save)"
   ]
  },
  {
   "cell_type": "code",
   "execution_count": 490,
   "metadata": {},
   "outputs": [
    {
     "data": {
      "text/html": [
       "<div>\n",
       "<style scoped>\n",
       "    .dataframe tbody tr th:only-of-type {\n",
       "        vertical-align: middle;\n",
       "    }\n",
       "\n",
       "    .dataframe tbody tr th {\n",
       "        vertical-align: top;\n",
       "    }\n",
       "\n",
       "    .dataframe thead th {\n",
       "        text-align: right;\n",
       "    }\n",
       "</style>\n",
       "<table border=\"1\" class=\"dataframe\">\n",
       "  <thead>\n",
       "    <tr style=\"text-align: right;\">\n",
       "      <th></th>\n",
       "      <th>customerID</th>\n",
       "      <th>gender</th>\n",
       "      <th>SeniorCitizen</th>\n",
       "      <th>Partner</th>\n",
       "      <th>Dependents</th>\n",
       "      <th>tenure</th>\n",
       "      <th>PhoneService</th>\n",
       "      <th>MultipleLines</th>\n",
       "      <th>InternetService</th>\n",
       "      <th>OnlineSecurity</th>\n",
       "      <th>...</th>\n",
       "      <th>DeviceProtection</th>\n",
       "      <th>TechSupport</th>\n",
       "      <th>StreamingTV</th>\n",
       "      <th>StreamingMovies</th>\n",
       "      <th>Contract</th>\n",
       "      <th>PaperlessBilling</th>\n",
       "      <th>PaymentMethod</th>\n",
       "      <th>MonthlyCharges</th>\n",
       "      <th>TotalCharges</th>\n",
       "      <th>Churn</th>\n",
       "    </tr>\n",
       "  </thead>\n",
       "  <tbody>\n",
       "    <tr>\n",
       "      <th>7038</th>\n",
       "      <td>6840-RESVB</td>\n",
       "      <td>Male</td>\n",
       "      <td>0</td>\n",
       "      <td>Yes</td>\n",
       "      <td>Yes</td>\n",
       "      <td>24</td>\n",
       "      <td>Yes</td>\n",
       "      <td>Yes</td>\n",
       "      <td>DSL</td>\n",
       "      <td>Yes</td>\n",
       "      <td>...</td>\n",
       "      <td>Yes</td>\n",
       "      <td>Yes</td>\n",
       "      <td>Yes</td>\n",
       "      <td>Yes</td>\n",
       "      <td>One year</td>\n",
       "      <td>Yes</td>\n",
       "      <td>Mailed check</td>\n",
       "      <td>84.80</td>\n",
       "      <td>1990.5</td>\n",
       "      <td>No</td>\n",
       "    </tr>\n",
       "    <tr>\n",
       "      <th>7039</th>\n",
       "      <td>2234-XADUH</td>\n",
       "      <td>Female</td>\n",
       "      <td>0</td>\n",
       "      <td>Yes</td>\n",
       "      <td>Yes</td>\n",
       "      <td>72</td>\n",
       "      <td>Yes</td>\n",
       "      <td>Yes</td>\n",
       "      <td>Fiber optic</td>\n",
       "      <td>No</td>\n",
       "      <td>...</td>\n",
       "      <td>Yes</td>\n",
       "      <td>No</td>\n",
       "      <td>Yes</td>\n",
       "      <td>Yes</td>\n",
       "      <td>One year</td>\n",
       "      <td>Yes</td>\n",
       "      <td>Credit card (automatic)</td>\n",
       "      <td>103.20</td>\n",
       "      <td>7362.9</td>\n",
       "      <td>No</td>\n",
       "    </tr>\n",
       "    <tr>\n",
       "      <th>7040</th>\n",
       "      <td>4801-JZAZL</td>\n",
       "      <td>Female</td>\n",
       "      <td>0</td>\n",
       "      <td>Yes</td>\n",
       "      <td>Yes</td>\n",
       "      <td>11</td>\n",
       "      <td>No</td>\n",
       "      <td>No phone service</td>\n",
       "      <td>DSL</td>\n",
       "      <td>Yes</td>\n",
       "      <td>...</td>\n",
       "      <td>No</td>\n",
       "      <td>No</td>\n",
       "      <td>No</td>\n",
       "      <td>No</td>\n",
       "      <td>Month-to-month</td>\n",
       "      <td>Yes</td>\n",
       "      <td>Electronic check</td>\n",
       "      <td>29.60</td>\n",
       "      <td>346.45</td>\n",
       "      <td>No</td>\n",
       "    </tr>\n",
       "    <tr>\n",
       "      <th>7041</th>\n",
       "      <td>8361-LTMKD</td>\n",
       "      <td>Male</td>\n",
       "      <td>1</td>\n",
       "      <td>Yes</td>\n",
       "      <td>No</td>\n",
       "      <td>4</td>\n",
       "      <td>Yes</td>\n",
       "      <td>Yes</td>\n",
       "      <td>Fiber optic</td>\n",
       "      <td>No</td>\n",
       "      <td>...</td>\n",
       "      <td>No</td>\n",
       "      <td>No</td>\n",
       "      <td>No</td>\n",
       "      <td>No</td>\n",
       "      <td>Month-to-month</td>\n",
       "      <td>Yes</td>\n",
       "      <td>Mailed check</td>\n",
       "      <td>74.40</td>\n",
       "      <td>306.6</td>\n",
       "      <td>Yes</td>\n",
       "    </tr>\n",
       "    <tr>\n",
       "      <th>7042</th>\n",
       "      <td>3186-AJIEK</td>\n",
       "      <td>Male</td>\n",
       "      <td>0</td>\n",
       "      <td>No</td>\n",
       "      <td>No</td>\n",
       "      <td>66</td>\n",
       "      <td>Yes</td>\n",
       "      <td>No</td>\n",
       "      <td>Fiber optic</td>\n",
       "      <td>Yes</td>\n",
       "      <td>...</td>\n",
       "      <td>Yes</td>\n",
       "      <td>Yes</td>\n",
       "      <td>Yes</td>\n",
       "      <td>Yes</td>\n",
       "      <td>Two year</td>\n",
       "      <td>Yes</td>\n",
       "      <td>Bank transfer (automatic)</td>\n",
       "      <td>105.65</td>\n",
       "      <td>6844.5</td>\n",
       "      <td>No</td>\n",
       "    </tr>\n",
       "  </tbody>\n",
       "</table>\n",
       "<p>5 rows × 21 columns</p>\n",
       "</div>"
      ],
      "text/plain": [
       "      customerID  gender  SeniorCitizen Partner Dependents  tenure  \\\n",
       "7038  6840-RESVB    Male              0     Yes        Yes      24   \n",
       "7039  2234-XADUH  Female              0     Yes        Yes      72   \n",
       "7040  4801-JZAZL  Female              0     Yes        Yes      11   \n",
       "7041  8361-LTMKD    Male              1     Yes         No       4   \n",
       "7042  3186-AJIEK    Male              0      No         No      66   \n",
       "\n",
       "     PhoneService     MultipleLines InternetService OnlineSecurity  ...  \\\n",
       "7038          Yes               Yes             DSL            Yes  ...   \n",
       "7039          Yes               Yes     Fiber optic             No  ...   \n",
       "7040           No  No phone service             DSL            Yes  ...   \n",
       "7041          Yes               Yes     Fiber optic             No  ...   \n",
       "7042          Yes                No     Fiber optic            Yes  ...   \n",
       "\n",
       "     DeviceProtection TechSupport StreamingTV StreamingMovies        Contract  \\\n",
       "7038              Yes         Yes         Yes             Yes        One year   \n",
       "7039              Yes          No         Yes             Yes        One year   \n",
       "7040               No          No          No              No  Month-to-month   \n",
       "7041               No          No          No              No  Month-to-month   \n",
       "7042              Yes         Yes         Yes             Yes        Two year   \n",
       "\n",
       "     PaperlessBilling              PaymentMethod MonthlyCharges  TotalCharges  \\\n",
       "7038              Yes               Mailed check          84.80        1990.5   \n",
       "7039              Yes    Credit card (automatic)         103.20        7362.9   \n",
       "7040              Yes           Electronic check          29.60        346.45   \n",
       "7041              Yes               Mailed check          74.40         306.6   \n",
       "7042              Yes  Bank transfer (automatic)         105.65        6844.5   \n",
       "\n",
       "     Churn  \n",
       "7038    No  \n",
       "7039    No  \n",
       "7040    No  \n",
       "7041   Yes  \n",
       "7042    No  \n",
       "\n",
       "[5 rows x 21 columns]"
      ]
     },
     "execution_count": 490,
     "metadata": {},
     "output_type": "execute_result"
    }
   ],
   "source": [
    "df = pd.read_csv('Data Set.csv')\n",
    "columns_to_drop = ['customerID', 'gender', 'Partner', 'Dependents', 'StreamingTV', 'StreamingMovies']\n",
    "df.tail()"
   ]
  },
  {
   "cell_type": "code",
   "execution_count": 491,
   "metadata": {},
   "outputs": [],
   "source": [
    "df.drop(columns_to_drop, inplace=True, axis=1)"
   ]
  },
  {
   "cell_type": "markdown",
   "metadata": {},
   "source": [
    "TotalCharges column has some null values: <br><br>\n",
    "    1. Replace ' ' with NaN<br>\n",
    "    2. Drop NaN values from the DataFrame<br>"
   ]
  },
  {
   "cell_type": "code",
   "execution_count": 492,
   "metadata": {},
   "outputs": [
    {
     "data": {
      "text/plain": [
       "SeniorCitizen       0\n",
       "tenure              0\n",
       "PhoneService        0\n",
       "MultipleLines       0\n",
       "InternetService     0\n",
       "OnlineSecurity      0\n",
       "OnlineBackup        0\n",
       "DeviceProtection    0\n",
       "TechSupport         0\n",
       "Contract            0\n",
       "PaperlessBilling    0\n",
       "PaymentMethod       0\n",
       "MonthlyCharges      0\n",
       "TotalCharges        0\n",
       "Churn               0\n",
       "dtype: int64"
      ]
     },
     "execution_count": 492,
     "metadata": {},
     "output_type": "execute_result"
    }
   ],
   "source": [
    "df.loc[df['TotalCharges'] == ' ', 'TotalCharges'] = np.nan\n",
    "df['TotalCharges'] = df['TotalCharges'].astype(float)\n",
    "df.dropna(inplace=True)\n",
    "df.isnull().sum()"
   ]
  },
  {
   "cell_type": "code",
   "execution_count": 493,
   "metadata": {},
   "outputs": [],
   "source": [
    "\n",
    "df['SeniorCitizen'] = df['SeniorCitizen'].astype(object)\n",
    "\n",
    "df.loc[df['SeniorCitizen'] == 1, 'SeniorCitizen'] = \"Yes\"\n",
    "df.loc[df['SeniorCitizen'] == 0, 'SeniorCitizen'] = \"No\"\n"
   ]
  },
  {
   "cell_type": "code",
   "execution_count": 494,
   "metadata": {},
   "outputs": [],
   "source": [
    "df['tenure'] = df['tenure'].astype(float)"
   ]
  },
  {
   "cell_type": "code",
   "execution_count": 495,
   "metadata": {},
   "outputs": [],
   "source": [
    "\n",
    "\n",
    "\n",
    "binary_categorical_columns = [c for c in df if len(df[c].unique()) == 2 and df[c].dtype.name == 'object']\n",
    "binary_categorical_columns\n",
    "\n",
    "non_binary_categorical_columns = [c for c in df if len(df[c].unique()) > 2 and len(df[c].unique()) < 6 and df[c].dtype.name == 'object']\n",
    "non_binary_categorical_columns\n",
    "\n",
    "numerical_columns = [c for c in df if df[c].dtype.name == 'float64']\n",
    "\n",
    "\n",
    "set(df.columns) - set(binary_categorical_columns + non_binary_categorical_columns + numerical_columns)\n",
    "\n",
    "\n",
    "for c in binary_categorical_columns:\n",
    "    df.loc[df[c] == 'Yes', c] = 1\n",
    "    df.loc[df[c] == 'No', c] = 0\n",
    "    df[c] = df[c].astype(int)\n",
    "\n",
    "\n",
    "non_binary_categorical_columns_dummies = pd.get_dummies(df[non_binary_categorical_columns])\n",
    "\n",
    "df = pd.concat(\n",
    "    [df[binary_categorical_columns], df[numerical_columns], non_binary_categorical_columns_dummies],\n",
    "    axis=1\n",
    ")"
   ]
  },
  {
   "cell_type": "code",
   "execution_count": 496,
   "metadata": {},
   "outputs": [
    {
     "name": "stdout",
     "output_type": "stream",
     "text": [
      "<class 'pandas.core.frame.DataFrame'>\n",
      "Int64Index: 7032 entries, 0 to 7042\n",
      "Data columns (total 32 columns):\n",
      " #   Column                                   Non-Null Count  Dtype  \n",
      "---  ------                                   --------------  -----  \n",
      " 0   SeniorCitizen                            7032 non-null   int64  \n",
      " 1   PhoneService                             7032 non-null   int64  \n",
      " 2   PaperlessBilling                         7032 non-null   int64  \n",
      " 3   Churn                                    7032 non-null   int64  \n",
      " 4   tenure                                   7032 non-null   float64\n",
      " 5   MonthlyCharges                           7032 non-null   float64\n",
      " 6   TotalCharges                             7032 non-null   float64\n",
      " 7   MultipleLines_No                         7032 non-null   uint8  \n",
      " 8   MultipleLines_No phone service           7032 non-null   uint8  \n",
      " 9   MultipleLines_Yes                        7032 non-null   uint8  \n",
      " 10  InternetService_DSL                      7032 non-null   uint8  \n",
      " 11  InternetService_Fiber optic              7032 non-null   uint8  \n",
      " 12  InternetService_No                       7032 non-null   uint8  \n",
      " 13  OnlineSecurity_No                        7032 non-null   uint8  \n",
      " 14  OnlineSecurity_No internet service       7032 non-null   uint8  \n",
      " 15  OnlineSecurity_Yes                       7032 non-null   uint8  \n",
      " 16  OnlineBackup_No                          7032 non-null   uint8  \n",
      " 17  OnlineBackup_No internet service         7032 non-null   uint8  \n",
      " 18  OnlineBackup_Yes                         7032 non-null   uint8  \n",
      " 19  DeviceProtection_No                      7032 non-null   uint8  \n",
      " 20  DeviceProtection_No internet service     7032 non-null   uint8  \n",
      " 21  DeviceProtection_Yes                     7032 non-null   uint8  \n",
      " 22  TechSupport_No                           7032 non-null   uint8  \n",
      " 23  TechSupport_No internet service          7032 non-null   uint8  \n",
      " 24  TechSupport_Yes                          7032 non-null   uint8  \n",
      " 25  Contract_Month-to-month                  7032 non-null   uint8  \n",
      " 26  Contract_One year                        7032 non-null   uint8  \n",
      " 27  Contract_Two year                        7032 non-null   uint8  \n",
      " 28  PaymentMethod_Bank transfer (automatic)  7032 non-null   uint8  \n",
      " 29  PaymentMethod_Credit card (automatic)    7032 non-null   uint8  \n",
      " 30  PaymentMethod_Electronic check           7032 non-null   uint8  \n",
      " 31  PaymentMethod_Mailed check               7032 non-null   uint8  \n",
      "dtypes: float64(3), int64(4), uint8(25)\n",
      "memory usage: 611.2 KB\n"
     ]
    }
   ],
   "source": [
    "df.info()"
   ]
  },
  {
   "cell_type": "markdown",
   "metadata": {},
   "source": [
    "# MinMax"
   ]
  },
  {
   "cell_type": "code",
   "execution_count": 497,
   "metadata": {},
   "outputs": [
    {
     "name": "stdout",
     "output_type": "stream",
     "text": [
      "['tenure', 'MonthlyCharges', 'TotalCharges']\n"
     ]
    }
   ],
   "source": [
    "to_scale = [col for col in df.columns if df[col].max() > 1]\n",
    "print(to_scale)"
   ]
  },
  {
   "cell_type": "code",
   "execution_count": 498,
   "metadata": {},
   "outputs": [
    {
     "name": "stdout",
     "output_type": "stream",
     "text": [
      "[[0.         0.11542289 0.0012751 ]\n",
      " [0.46478873 0.38507463 0.21586661]\n",
      " [0.01408451 0.35422886 0.01031041]\n",
      " ...\n",
      " [0.14084507 0.11293532 0.03780868]\n",
      " [0.04225352 0.55870647 0.03321025]\n",
      " [0.91549296 0.86965174 0.78764136]]\n",
      "+ + + + + +\n",
      "[[1.0000e+00 2.9850e+01 2.9850e+01]\n",
      " [3.4000e+01 5.6950e+01 1.8895e+03]\n",
      " [2.0000e+00 5.3850e+01 1.0815e+02]\n",
      " ...\n",
      " [1.1000e+01 2.9600e+01 3.4645e+02]\n",
      " [4.0000e+00 7.4400e+01 3.0660e+02]\n",
      " [6.6000e+01 1.0565e+02 6.8445e+03]]\n"
     ]
    }
   ],
   "source": [
    "\n",
    "scaler = MinMaxScaler()\n",
    "scaler.fit(df[to_scale])\n",
    "\n",
    "scaled = scaler.transform(df[to_scale])\n",
    "print(scaled)\n",
    "\n",
    "print('+ + + + + +')\n",
    "\n",
    "unscaled = scaler.inverse_transform(scaled)\n",
    "print(unscaled)\n",
    "\n",
    "df_cols_unscaled = pd.DataFrame(unscaled, columns=to_scale)\n",
    "df_cols_scaled = pd.DataFrame(scaled, columns=to_scale)\n",
    "\n"
   ]
  },
  {
   "cell_type": "code",
   "execution_count": 499,
   "metadata": {},
   "outputs": [],
   "source": [
    "df.reset_index(drop=True, inplace=True)\n",
    "\n",
    "# for c in df_cols_scaled:\n",
    "#     df[c] = df_cols_scaled[c]\n",
    "\n",
    "# for c in df_cols_unscaled:\n",
    "#     df[c] = df_cols_unscaled[c]\n",
    "\n",
    "\n"
   ]
  },
  {
   "cell_type": "code",
   "execution_count": 500,
   "metadata": {},
   "outputs": [
    {
     "name": "stdout",
     "output_type": "stream",
     "text": [
      "<class 'pandas.core.frame.DataFrame'>\n",
      "RangeIndex: 7032 entries, 0 to 7031\n",
      "Data columns (total 32 columns):\n",
      " #   Column                                   Non-Null Count  Dtype  \n",
      "---  ------                                   --------------  -----  \n",
      " 0   SeniorCitizen                            7032 non-null   int64  \n",
      " 1   PhoneService                             7032 non-null   int64  \n",
      " 2   PaperlessBilling                         7032 non-null   int64  \n",
      " 3   Churn                                    7032 non-null   int64  \n",
      " 4   tenure                                   7032 non-null   float64\n",
      " 5   MonthlyCharges                           7032 non-null   float64\n",
      " 6   TotalCharges                             7032 non-null   float64\n",
      " 7   MultipleLines_No                         7032 non-null   uint8  \n",
      " 8   MultipleLines_No phone service           7032 non-null   uint8  \n",
      " 9   MultipleLines_Yes                        7032 non-null   uint8  \n",
      " 10  InternetService_DSL                      7032 non-null   uint8  \n",
      " 11  InternetService_Fiber optic              7032 non-null   uint8  \n",
      " 12  InternetService_No                       7032 non-null   uint8  \n",
      " 13  OnlineSecurity_No                        7032 non-null   uint8  \n",
      " 14  OnlineSecurity_No internet service       7032 non-null   uint8  \n",
      " 15  OnlineSecurity_Yes                       7032 non-null   uint8  \n",
      " 16  OnlineBackup_No                          7032 non-null   uint8  \n",
      " 17  OnlineBackup_No internet service         7032 non-null   uint8  \n",
      " 18  OnlineBackup_Yes                         7032 non-null   uint8  \n",
      " 19  DeviceProtection_No                      7032 non-null   uint8  \n",
      " 20  DeviceProtection_No internet service     7032 non-null   uint8  \n",
      " 21  DeviceProtection_Yes                     7032 non-null   uint8  \n",
      " 22  TechSupport_No                           7032 non-null   uint8  \n",
      " 23  TechSupport_No internet service          7032 non-null   uint8  \n",
      " 24  TechSupport_Yes                          7032 non-null   uint8  \n",
      " 25  Contract_Month-to-month                  7032 non-null   uint8  \n",
      " 26  Contract_One year                        7032 non-null   uint8  \n",
      " 27  Contract_Two year                        7032 non-null   uint8  \n",
      " 28  PaymentMethod_Bank transfer (automatic)  7032 non-null   uint8  \n",
      " 29  PaymentMethod_Credit card (automatic)    7032 non-null   uint8  \n",
      " 30  PaymentMethod_Electronic check           7032 non-null   uint8  \n",
      " 31  PaymentMethod_Mailed check               7032 non-null   uint8  \n",
      "dtypes: float64(3), int64(4), uint8(25)\n",
      "memory usage: 556.4 KB\n"
     ]
    }
   ],
   "source": [
    "df.info()"
   ]
  },
  {
   "cell_type": "code",
   "execution_count": null,
   "metadata": {},
   "outputs": [],
   "source": []
  },
  {
   "cell_type": "markdown",
   "metadata": {},
   "source": [
    "# Cleanup finished, let's grow some trees!\n"
   ]
  },
  {
   "cell_type": "code",
   "execution_count": 501,
   "metadata": {},
   "outputs": [
    {
     "name": "stdout",
     "output_type": "stream",
     "text": [
      "<class 'pandas.core.frame.DataFrame'>\n",
      "RangeIndex: 7032 entries, 0 to 7031\n",
      "Data columns (total 32 columns):\n",
      " #   Column                                   Non-Null Count  Dtype  \n",
      "---  ------                                   --------------  -----  \n",
      " 0   SeniorCitizen                            7032 non-null   int64  \n",
      " 1   PhoneService                             7032 non-null   int64  \n",
      " 2   PaperlessBilling                         7032 non-null   int64  \n",
      " 3   Churn                                    7032 non-null   int64  \n",
      " 4   tenure                                   7032 non-null   float64\n",
      " 5   MonthlyCharges                           7032 non-null   float64\n",
      " 6   TotalCharges                             7032 non-null   float64\n",
      " 7   MultipleLines_No                         7032 non-null   uint8  \n",
      " 8   MultipleLines_No phone service           7032 non-null   uint8  \n",
      " 9   MultipleLines_Yes                        7032 non-null   uint8  \n",
      " 10  InternetService_DSL                      7032 non-null   uint8  \n",
      " 11  InternetService_Fiber optic              7032 non-null   uint8  \n",
      " 12  InternetService_No                       7032 non-null   uint8  \n",
      " 13  OnlineSecurity_No                        7032 non-null   uint8  \n",
      " 14  OnlineSecurity_No internet service       7032 non-null   uint8  \n",
      " 15  OnlineSecurity_Yes                       7032 non-null   uint8  \n",
      " 16  OnlineBackup_No                          7032 non-null   uint8  \n",
      " 17  OnlineBackup_No internet service         7032 non-null   uint8  \n",
      " 18  OnlineBackup_Yes                         7032 non-null   uint8  \n",
      " 19  DeviceProtection_No                      7032 non-null   uint8  \n",
      " 20  DeviceProtection_No internet service     7032 non-null   uint8  \n",
      " 21  DeviceProtection_Yes                     7032 non-null   uint8  \n",
      " 22  TechSupport_No                           7032 non-null   uint8  \n",
      " 23  TechSupport_No internet service          7032 non-null   uint8  \n",
      " 24  TechSupport_Yes                          7032 non-null   uint8  \n",
      " 25  Contract_Month-to-month                  7032 non-null   uint8  \n",
      " 26  Contract_One year                        7032 non-null   uint8  \n",
      " 27  Contract_Two year                        7032 non-null   uint8  \n",
      " 28  PaymentMethod_Bank transfer (automatic)  7032 non-null   uint8  \n",
      " 29  PaymentMethod_Credit card (automatic)    7032 non-null   uint8  \n",
      " 30  PaymentMethod_Electronic check           7032 non-null   uint8  \n",
      " 31  PaymentMethod_Mailed check               7032 non-null   uint8  \n",
      "dtypes: float64(3), int64(4), uint8(25)\n",
      "memory usage: 556.4 KB\n"
     ]
    }
   ],
   "source": [
    "# df.tail(30)\n",
    "df.info()"
   ]
  },
  {
   "cell_type": "code",
   "execution_count": 502,
   "metadata": {},
   "outputs": [],
   "source": [
    "y = df['Churn']\n",
    "\n",
    "df.drop(['Churn'], inplace=True, axis=1)\n"
   ]
  },
  {
   "cell_type": "code",
   "execution_count": 503,
   "metadata": {},
   "outputs": [],
   "source": [
    "X_train, X_holdout, y_train, y_holdout = train_test_split(\n",
    "    df.values, y, test_size=0.33, random_state=17\n",
    ")"
   ]
  },
  {
   "cell_type": "code",
   "execution_count": 504,
   "metadata": {},
   "outputs": [],
   "source": [
    "sm = SMOTE(random_state=42)\n",
    "X_res, y_res = sm.fit_resample(X_train, y_train)"
   ]
  },
  {
   "cell_type": "code",
   "execution_count": 505,
   "metadata": {},
   "outputs": [],
   "source": [
    "# tree = DecisionTreeClassifier(random_state=17, max_depth=12, max_features=24, max_leaf_nodes=199)\n",
    "# tree.fit(X_train, y_train)\n",
    "\n",
    "\n",
    "# tree_predictions = tree.predict(X_holdout)\n",
    "\n",
    "# print(classification_report(y_holdout, tree_predictions))\n",
    "# print('Accuracy Score: ', accuracy_score(y_holdout, tree_predictions))\n"
   ]
  },
  {
   "cell_type": "code",
   "execution_count": 506,
   "metadata": {},
   "outputs": [],
   "source": [
    "# tree = DecisionTreeClassifier(random_state=17)\n",
    "\n",
    "# tree_params = {\"max_depth\": range(1, 14), \"max_features\": range(3, 25), \"max_leaf_nodes\": range(2, 200)}\n",
    "\n",
    "# tree_grid = GridSearchCV(tree, tree_params, cv=5, n_jobs=-1, verbose=True)\n",
    "\n",
    "# tree_grid.fit(X_res, y_res)\n"
   ]
  },
  {
   "cell_type": "code",
   "execution_count": 507,
   "metadata": {},
   "outputs": [
    {
     "name": "stdout",
     "output_type": "stream",
     "text": [
      "Fitting 5 folds for each of 56628 candidates, totalling 283140 fits\n"
     ]
    },
    {
     "data": {
      "text/plain": [
       "GridSearchCV(cv=5, estimator=DecisionTreeClassifier(random_state=17), n_jobs=-1,\n",
       "             param_grid={'max_depth': range(1, 14),\n",
       "                         'max_features': range(3, 25),\n",
       "                         'max_leaf_nodes': range(2, 200)},\n",
       "             verbose=True)"
      ]
     },
     "execution_count": 507,
     "metadata": {},
     "output_type": "execute_result"
    }
   ],
   "source": [
    "# tree_unscaled = DecisionTreeClassifier(random_state=17)\n",
    "\n",
    "# tree_params = {\"max_depth\": range(1, 14), \"max_features\": range(3, 25), \"max_leaf_nodes\": range(2, 200)}\n",
    "\n",
    "# tree_grid_unscaled = GridSearchCV(tree_unscaled, tree_params, cv=5, n_jobs=-1, verbose=True)\n",
    "\n",
    "# tree_grid_unscaled.fit(X_res, y_res)\n"
   ]
  },
  {
   "cell_type": "code",
   "execution_count": 514,
   "metadata": {},
   "outputs": [
    {
     "name": "stdout",
     "output_type": "stream",
     "text": [
      "{'max_depth': 12, 'max_features': 24, 'max_leaf_nodes': 199}\n",
      "              precision    recall  f1-score   support\n",
      "\n",
      "           0       0.85      0.80      0.82      1713\n",
      "           1       0.52      0.61      0.56       608\n",
      "\n",
      "    accuracy                           0.75      2321\n",
      "   macro avg       0.68      0.70      0.69      2321\n",
      "weighted avg       0.76      0.75      0.75      2321\n",
      "\n",
      "Accuracy Score:  0.7479534683326152\n"
     ]
    }
   ],
   "source": [
    "tree_predictions = tree_grid.predict(X_holdout)\n",
    "\n",
    "print(tree_grid.best_params_)\n",
    "print(classification_report(y_holdout, tree_predictions))\n",
    "print('Accuracy Score: ', accuracy_score(y_holdout, tree_predictions))\n",
    "\n",
    "\n"
   ]
  },
  {
   "cell_type": "code",
   "execution_count": 523,
   "metadata": {},
   "outputs": [
    {
     "name": "stdout",
     "output_type": "stream",
     "text": [
      "{'max_depth': 9, 'max_features': 18, 'max_leaf_nodes': 50}\n",
      "              precision    recall  f1-score   support\n",
      "\n",
      "           0       0.86      0.85      0.85      1713\n",
      "           1       0.58      0.60      0.59       608\n",
      "\n",
      "    accuracy                           0.78      2321\n",
      "   macro avg       0.72      0.72      0.72      2321\n",
      "weighted avg       0.79      0.78      0.78      2321\n",
      "\n",
      "Accuracy Score:  0.7828522188711762\n"
     ]
    },
    {
     "data": {
      "text/plain": [
       "0.5922330097087379"
      ]
     },
     "execution_count": 523,
     "metadata": {},
     "output_type": "execute_result"
    }
   ],
   "source": [
    "tree_predictions_unscaled = tree_grid_unscaled.predict(X_holdout)\n",
    "\n",
    "print(tree_grid_unscaled.best_params_)\n",
    "print(classification_report(y_holdout, tree_predictions_unscaled))\n",
    "print('Accuracy Score: ', accuracy_score(y_holdout, tree_predictions_unscaled))\n",
    "recall_score(y_holdout, tree_predictions_unscaled)\n",
    "f1_score(y_holdout, tree_predictions_unscaled)\n",
    "\n",
    "\n",
    "\n"
   ]
  },
  {
   "cell_type": "code",
   "execution_count": 515,
   "metadata": {},
   "outputs": [],
   "source": [
    "tree_graph_to_png(\n",
    "    tree=tree_grid_unscaled.best_estimator_,\n",
    "    feature_names=df.columns,\n",
    "    png_file_to_save=\"model2.0_unscaled.png\",\n",
    ")\n"
   ]
  },
  {
   "cell_type": "code",
   "execution_count": 518,
   "metadata": {},
   "outputs": [
    {
     "data": {
      "text/plain": [
       "SeniorCitizen                              0.000000\n",
       "PhoneService                               0.000000\n",
       "PaperlessBilling                           0.061262\n",
       "tenure                                     0.056973\n",
       "MonthlyCharges                             0.049085\n",
       "TotalCharges                               0.011356\n",
       "MultipleLines_No                           0.000000\n",
       "MultipleLines_No phone service             0.004413\n",
       "MultipleLines_Yes                          0.000000\n",
       "InternetService_DSL                        0.003168\n",
       "InternetService_Fiber optic                0.000000\n",
       "InternetService_No                         0.000000\n",
       "OnlineSecurity_No                          0.007122\n",
       "OnlineSecurity_No internet service         0.000000\n",
       "OnlineSecurity_Yes                         0.045369\n",
       "OnlineBackup_No                            0.005059\n",
       "OnlineBackup_No internet service           0.000000\n",
       "OnlineBackup_Yes                           0.000000\n",
       "DeviceProtection_No                        0.002074\n",
       "DeviceProtection_No internet service       0.000000\n",
       "DeviceProtection_Yes                       0.000000\n",
       "TechSupport_No                             0.131936\n",
       "TechSupport_No internet service            0.000000\n",
       "TechSupport_Yes                            0.000000\n",
       "Contract_Month-to-month                    0.523405\n",
       "Contract_One year                          0.013706\n",
       "Contract_Two year                          0.009427\n",
       "PaymentMethod_Bank transfer (automatic)    0.014099\n",
       "PaymentMethod_Credit card (automatic)      0.018234\n",
       "PaymentMethod_Electronic check             0.034490\n",
       "PaymentMethod_Mailed check                 0.008822\n",
       "dtype: float64"
      ]
     },
     "execution_count": 518,
     "metadata": {},
     "output_type": "execute_result"
    }
   ],
   "source": [
    "df_importances = pd.DataFrame([tree_grid_unscaled.best_estimator_.feature_importances_], columns=df.columns.values)\n",
    "df_importances.max()\n"
   ]
  }
 ],
 "metadata": {
  "interpreter": {
   "hash": "d625b636ac31834ac275b0fb3b828156bdf1230b7fd25db6b5b2439e74683b6c"
  },
  "kernelspec": {
   "display_name": "Python 3.9.12 ('base')",
   "language": "python",
   "name": "python3"
  },
  "language_info": {
   "codemirror_mode": {
    "name": "ipython",
    "version": 3
   },
   "file_extension": ".py",
   "mimetype": "text/x-python",
   "name": "python",
   "nbconvert_exporter": "python",
   "pygments_lexer": "ipython3",
   "version": "3.9.12"
  },
  "orig_nbformat": 4
 },
 "nbformat": 4,
 "nbformat_minor": 2
}
